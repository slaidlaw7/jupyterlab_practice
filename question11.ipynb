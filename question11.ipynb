{
 "cells": [
  {
   "cell_type": "markdown",
   "id": "089adf1e-45be-4376-a19f-9f40e7f2c612",
   "metadata": {},
   "source": [
    "# Shawn Laidlaw\n",
    "Notebook for Assignment 7"
   ]
  },
  {
   "cell_type": "code",
   "execution_count": 1,
   "id": "0d34fa3a-b053-4560-8e51-5c3fedfd5147",
   "metadata": {},
   "outputs": [
    {
     "name": "stdout",
     "output_type": "stream",
     "text": [
      "5.0\n"
     ]
    }
   ],
   "source": [
    "def compute_mean(values):\n",
    "    mean = sum(values) / len(values)\n",
    "    return mean\n",
    "\n",
    "# Call the function with the specified list\n",
    "print(compute_mean([2, 4, 6, 8]))"
   ]
  },
  {
   "cell_type": "markdown",
   "id": "51a242b7-dd1e-4be6-b24a-6940f3468785",
   "metadata": {},
   "source": [
    "The function `compute_mean` calculates the mean (average) of a list of numbers by summing all the values and dividing by the number of values in the list.\n",
    "\n",
    "The mean is calculated using the following equation:\n",
    "$$\n",
    "\\bar{x} = \\frac{1}{n} \\sum_{i=1}^{n} x_i\n",
    "$$\n",
    "\n",
    "An alternative way to express the mean is:\n",
    "$$\n",
    "\\bar{x} = \\frac{x_1 + x_2 + \\cdots + x_n}{n}\n",
    "$$\n"
   ]
  }
 ],
 "metadata": {
  "kernelspec": {
   "display_name": "Python [conda env:base] *",
   "language": "python",
   "name": "conda-base-py"
  },
  "language_info": {
   "codemirror_mode": {
    "name": "ipython",
    "version": 3
   },
   "file_extension": ".py",
   "mimetype": "text/x-python",
   "name": "python",
   "nbconvert_exporter": "python",
   "pygments_lexer": "ipython3",
   "version": "3.12.3"
  }
 },
 "nbformat": 4,
 "nbformat_minor": 5
}
